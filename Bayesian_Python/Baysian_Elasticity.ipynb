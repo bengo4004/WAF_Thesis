{
 "cells": [
  {
   "cell_type": "markdown",
   "id": "d84371c6-c2a1-48a3-8042-a99e23af46e8",
   "metadata": {},
   "source": [
    "# Baysian Regression model- Price Elasticity\n",
    "- Lecture\n",
    "- Online source\n",
    "- Lin paper\n",
    "- Data Camp\n",
    "- Basic Baysian inference: Two groups continous outcomes\n",
    "    - reduced  dataset, treated_b split, only 2013"
   ]
  },
  {
   "cell_type": "code",
   "execution_count": 3,
   "id": "70bbed6b-c51d-44b5-8f2d-944c8b95ce59",
   "metadata": {},
   "outputs": [
    {
     "name": "stderr",
     "output_type": "stream",
     "text": [
      "/opt/conda/lib/python3.9/site-packages/pandas/core/computation/expressions.py:21: UserWarning: Pandas requires version '2.8.4' or newer of 'numexpr' (version '2.8.0' currently installed).\n",
      "  from pandas.core.computation.check import NUMEXPR_INSTALLED\n",
      "/tmp/ipykernel_35398/479662750.py:2: DeprecationWarning: \n",
      "Pyarrow will become a required dependency of pandas in the next major release of pandas (pandas 3.0),\n",
      "(to allow more performant data types, such as the Arrow string type, and better interoperability with other libraries)\n",
      "but was not found to be installed on your system.\n",
      "If this would cause problems for you,\n",
      "please provide us feedback at https://github.com/pandas-dev/pandas/issues/54466\n",
      "        \n",
      "  import pandas as pd\n"
     ]
    }
   ],
   "source": [
    "# Import necessary package \n",
    "import pandas as pd\n",
    "import numpy as np\n",
    "import seaborn as sn\n",
    "import tensorflow as tf\n",
    "import pymc as pm\n",
    "from scipy import optimize\n",
    "import statsmodels.api as sm\n",
    "import matplotlib.pyplot as plt\n",
    "from matplotlib.ticker import MultipleLocator\n",
    "import arviz as az\n",
    "import tensorflow as tf\n",
    "\n",
    "\n",
    "# for reproducable results\n",
    "import random"
   ]
  },
  {
   "cell_type": "code",
   "execution_count": 4,
   "id": "ab7bf372-5398-437e-8084-f9f96bcbcc0f",
   "metadata": {},
   "outputs": [],
   "source": [
    "SEED = 5\n",
    "np.random.seed(SEED)"
   ]
  },
  {
   "cell_type": "code",
   "execution_count": 5,
   "id": "44d2b42a-c30d-45ae-8b2a-fb07dba5b86f",
   "metadata": {
    "tags": []
   },
   "outputs": [
    {
     "data": {
      "text/plain": [
       "Unnamed: 0                           int64\n",
       "year                                 int64\n",
       "id_c                                 int64\n",
       "county                              object\n",
       "state                                int64\n",
       "grund                              float64\n",
       "rate_gw                            float64\n",
       "treated_b                            int64\n",
       "high_gw_rate                         int64\n",
       "rate_change                          int64\n",
       "first_rate_change_year             float64\n",
       "ever_treated                         int64\n",
       "rate_change_treatment_indicator      int64\n",
       "event_time_rate_change             float64\n",
       "eigengewinnung                     float64\n",
       "fremdbezug                         float64\n",
       "n_betriebe_eg                      float64\n",
       "match_rpf_sa                          bool\n",
       "match_rpf_sa_eng                      bool\n",
       "high_gw_cont                       float64\n",
       "gdp                                float64\n",
       "gdp_pw                             float64\n",
       "gdp_pc                             float64\n",
       "perc_gruene                        float64\n",
       "mean_precip                        float64\n",
       "pop_density                        float64\n",
       "sw_area                            float64\n",
       "betrieb_wassernutzung               object\n",
       "grund_perfirm                      float64\n",
       "log_grund_perfirm                  float64\n",
       "dtype: object"
      ]
     },
     "execution_count": 5,
     "metadata": {},
     "output_type": "execute_result"
    }
   ],
   "source": [
    "# 0. Reading-in Set that has missings\n",
    "water_baysian = pd.read_csv('water_baysian.csv')\n",
    "water_baysian.dtypes"
   ]
  },
  {
   "cell_type": "markdown",
   "id": "cdfab880-1dd1-41de-85b2-e0f2f37f9947",
   "metadata": {},
   "source": [
    "# 1. Transforming"
   ]
  },
  {
   "cell_type": "code",
   "execution_count": 6,
   "id": "f339ebe4-dafc-4a81-93f8-3cd5ff816610",
   "metadata": {},
   "outputs": [],
   "source": [
    "water_baysian['log_gdp'] = np.log(water_baysian['gdp'])\n",
    "water_baysian['log_mean_precip'] = np.log(water_baysian['mean_precip'])\n",
    "water_baysian['log_pop_density'] = np.log(water_baysian['pop_density'])\n",
    "water_baysian['log_fremdbezug_perfirm'] = np.log(water_baysian['fremdbezug']/water_baysian['n_betriebe_eg'] )\n",
    "water_baysian['log_perc_gruene'] = np.log(water_baysian['perc_gruene'])\n",
    "water_baysian['log_rate_gw'] = np.log(water_baysian['rate_gw']+0.0001)\n",
    "water_baysian['log_sw_area'] = np.log(water_baysian['sw_area'])\n",
    "# convert to float 32 and round to 3 for staorage saving\n",
    "water_baysian['log_gdp'] =water_baysian['log_gdp'].round(3).astype('float32')\n",
    "water_baysian['log_mean_precip'] =water_baysian['log_mean_precip'].round(3).astype('float32')\n",
    "water_baysian['log_pop_density'] =water_baysian['log_pop_density'].round(3).astype('float32')\n",
    "water_baysian['log_fremdbezug_perfirm'] = water_baysian['log_fremdbezug_perfirm'].round(3).astype('float32')\n",
    "water_baysian['log_perc_gruene'] = water_baysian['log_perc_gruene'].round(3).astype('float32')\n",
    "water_baysian['log_sw_area'] = np.log(water_baysian['sw_area'])\n",
    "water_baysian['log_sw_area'] = water_baysian['log_sw_area'].round(3).astype('float32')\n",
    "water_baysian['log_rate_gw'] = water_baysian['log_rate_gw'].round(3).astype('float32')\n"
   ]
  },
  {
   "cell_type": "raw",
   "id": "c94e7df3-2b0d-40de-b7e7-51b8ad5ac480",
   "metadata": {},
   "source": [
    "fig, axs = plt.subplots(3,3, figsize = (12,12))\n",
    "\n",
    "sn.histplot(data = water_baysian, x = 'log_grund_perfirm', kde = True, color = 'skyblue', ax = axs[0,0]).set(title='log-GW per firm')\n",
    "sn.histplot(data = water_baysian, x = 'log_gdp', kde = True, color = 'yellow', ax = axs[0,1]).set(title='log GDP')\n",
    "sn.histplot(data = water_baysian, x = 'treated_b', kde = True, color = 'green', ax = axs[0,2]).set(title='WAF y/N')\n",
    "sn.histplot(data = water_baysian, x = 'log_mean_precip', kde = True, color = 'red', ax = axs[1,0]).set(title='log-Precipitation')\n",
    "sn.histplot(data = water_baysian, x = 'log_pop_density', kde = True, color = 'magenta', ax = axs[1,1]).set(title='log Population density')\n",
    "sn.histplot(data = water_baysian, x = 'log_fremdbezug_perfirm', kde = True, color = 'orange', ax = axs[1,2]).set(title='log-Fremdbezug per firm')\n",
    "sn.histplot(data = water_baysian, x = 'rate_gw', kde = True, color = 'orange', ax = axs[2,0]).set(title='Rate')\n",
    "\n",
    "plt.show()\n",
    "\n"
   ]
  },
  {
   "cell_type": "markdown",
   "id": "df9ddf55-6fb0-4d3d-b59d-5423651b685d",
   "metadata": {},
   "source": [
    "# 2. Standardizing Data\n",
    "We are dealing with the nas in the Dataset by masking them at this point and and standardize them according to the process implemented in the Lecture. The masked arrays are just used when we turn to the Baysian Regression."
   ]
  },
  {
   "cell_type": "code",
   "execution_count": 7,
   "id": "c05d25ad-62f0-43a9-bcb9-7e0d77ec0bde",
   "metadata": {},
   "outputs": [],
   "source": [
    "def standardize_ma(x):\n",
    "    x_ma = np.ma.masked_invalid(x)\n",
    "    return (x_ma-x_ma.mean())/x_ma.std()"
   ]
  },
  {
   "cell_type": "code",
   "execution_count": 8,
   "id": "e56ebc74-1340-4f54-bdfe-99e88692f9df",
   "metadata": {},
   "outputs": [],
   "source": [
    "# Standardize the y variable\n",
    "log_grund_perfirm = standardize_ma((water_baysian['log_grund_perfirm']))\n",
    "# Standardize MA the explanatory variables\n",
    "\n",
    "log_gdp = standardize_ma(water_baysian['log_gdp'])\n",
    "log_mean_precip = standardize_ma(water_baysian['log_mean_precip'])\n",
    "log_pop_density = standardize_ma(water_baysian['log_pop_density'])\n",
    "log_fremdbezug_perfirm = standardize_ma(water_baysian['log_fremdbezug_perfirm'])\n",
    "log_perc_gruene = standardize_ma(water_baysian['log_perc_gruene'])\n",
    "log_rate_gw = standardize_ma(water_baysian['log_rate_gw'])\n",
    "log_sw_area = standardize_ma(water_baysian['log_sw_area'])"
   ]
  },
  {
   "cell_type": "code",
   "execution_count": 9,
   "id": "f40c4831-4b74-41a5-97d1-557a6ceb2b25",
   "metadata": {},
   "outputs": [],
   "source": [
    "# convert to arrays\n",
    "log_grund_perfirm = np.array(log_grund_perfirm)\n",
    "log_gdp= np.array(log_gdp)\n",
    "log_mean_precip= np.array(log_mean_precip)\n",
    "log_pop_density = np.array(log_pop_density)\n",
    "log_fremdbezug_perfirm = np.array(log_fremdbezug_perfirm)\n",
    "log_perc_gruene = np.array(log_perc_gruene)\n",
    "log_rate_gw = np.array(water_baysian['log_rate_gw'])\n",
    "log_sw_area = np.array(log_sw_area)"
   ]
  },
  {
   "cell_type": "markdown",
   "id": "fc1bf69c-f28b-4269-8527-3eedb17b47f0",
   "metadata": {
    "tags": []
   },
   "source": [
    "# 3. Baysian Regression \n",
    " - SOO\n",
    " - RPF & SA\n",
    " - uninformed prior: "
   ]
  },
  {
   "cell_type": "code",
   "execution_count": 10,
   "id": "4c7bf87c-0026-4446-b2aa-0765dc8147ad",
   "metadata": {},
   "outputs": [
    {
     "name": "stderr",
     "output_type": "stream",
     "text": [
      "/opt/conda/lib/python3.9/site-packages/pymc/model/core.py:1323: ImputationWarning: Data in Log_gdp contains missing values and will be automatically imputed from the sampling distribution.\n",
      "  warnings.warn(impute_message, ImputationWarning)\n",
      "/opt/conda/lib/python3.9/site-packages/pymc/model/core.py:1323: ImputationWarning: Data in Log_pop_density contains missing values and will be automatically imputed from the sampling distribution.\n",
      "  warnings.warn(impute_message, ImputationWarning)\n",
      "/opt/conda/lib/python3.9/site-packages/pymc/model/core.py:1323: ImputationWarning: Data in Log_mean_precip contains missing values and will be automatically imputed from the sampling distribution.\n",
      "  warnings.warn(impute_message, ImputationWarning)\n",
      "/opt/conda/lib/python3.9/site-packages/pymc/model/core.py:1323: ImputationWarning: Data in Log_mean_fremdbezug_perfirm contains missing values and will be automatically imputed from the sampling distribution.\n",
      "  warnings.warn(impute_message, ImputationWarning)\n",
      "/opt/conda/lib/python3.9/site-packages/pymc/model/core.py:1323: ImputationWarning: Data in Log_sw_area contains missing values and will be automatically imputed from the sampling distribution.\n",
      "  warnings.warn(impute_message, ImputationWarning)\n",
      "/opt/conda/lib/python3.9/site-packages/pymc/model/core.py:1323: ImputationWarning: Data in log_y contains missing values and will be automatically imputed from the sampling distribution.\n",
      "  warnings.warn(impute_message, ImputationWarning)\n"
     ]
    }
   ],
   "source": [
    "with pm.Model() as bay_model1:\n",
    "    # Priors\n",
    "    constant = pm.Normal('contant', mu =0.0 , sigma = 1.0)\n",
    "    σ_prior = 0.1\n",
    "    # explanatory\n",
    "    b_log_gdp = pm.Normal('b_log_gdp', mu = 0.0,sigma =σ_prior )\n",
    "    b_log_mean_precip = pm.Normal('b_log_mean_precip', mu = 0.0,sigma =σ_prior )\n",
    "    b_log_pop_density = pm.Normal('b_log_pop_density', mu = 0.0,sigma =σ_prior )\n",
    "    b_log_fremdbezug_perfirm = pm.Normal('b_log_fremdbezug_perfirm', mu = 0.0,sigma =σ_prior )\n",
    "    b_log_perc_gruene = pm.Normal('b_log_perc_gruene', mu = 0.0,sigma =σ_prior )\n",
    "    b_log_rate_gw = pm.Normal('b_log_rate_gw', mu = 0.0,sigma =σ_prior )\n",
    "    b_log_sw_area = pm.Normal('b_log_sw_area', mu=0.0, sigma=σ_prior)\n",
    "    \n",
    "    # draw of missings\n",
    "    Log_gdp = pm.Normal('Log_gdp',mu =0,sigma =1.0 , observed = log_gdp)\n",
    "    Log_pop_density = pm.Normal('Log_pop_density',mu =0,sigma =1.0 , observed = log_pop_density )\n",
    "    Log_mean_precip = pm.Normal('Log_mean_precip',mu =0,sigma =1.0 , observed = log_mean_precip)\n",
    "    Log_mean_fremdbezug_perfirm  = pm.Normal('Log_mean_fremdbezug_perfirm',mu =0,sigma =1.0 , observed = log_fremdbezug_perfirm)\n",
    "    Log_mean_perc_gruene  = pm.Normal('Log_mean_perc_gruene',mu =0,sigma =1.0 , observed = log_perc_gruene)\n",
    "    Log_rate_gw = pm.Normal('Log_rate_gw', mu =0,sigma =1.0, observed=log_rate_gw )\n",
    "    Log_sw_area = pm.Normal('Log_sw_area', mu=0, sigma=1.0, observed=log_sw_area)\n",
    "    \n",
    "    # Model\n",
    "    μ = constant + b_log_rate_gw*Log_rate_gw + b_log_gdp*Log_gdp+ b_log_sw_area * Log_sw_area + b_log_mean_precip*Log_mean_precip + b_log_pop_density*Log_pop_density + b_log_fremdbezug_perfirm * Log_mean_fremdbezug_perfirm+b_log_perc_gruene*Log_mean_perc_gruene\n",
    "    σ = pm.HalfNormal('σ', 1)\n",
    "    log_y = pm.Normal('log_y', μ,σ, observed =log_grund_perfirm)\n",
    "    # for now reduced comp"
   ]
  },
  {
   "cell_type": "code",
   "execution_count": 11,
   "id": "3a18c15f-c3a3-4ca9-af7a-19de873ebc03",
   "metadata": {},
   "outputs": [
    {
     "name": "stderr",
     "output_type": "stream",
     "text": [
      "Auto-assigning NUTS sampler...\n",
      "Initializing NUTS using jitter+adapt_diag...\n",
      "Sequential sampling (2 chains in 1 job)\n",
      "NUTS: [contant, b_log_gdp, b_log_mean_precip, b_log_pop_density, b_log_fremdbezug_perfirm, b_log_perc_gruene, b_log_rate_gw, b_log_sw_area, Log_gdp_unobserved, Log_pop_density_unobserved, Log_mean_precip_unobserved, Log_mean_fremdbezug_perfirm_unobserved, Log_sw_area_unobserved, σ, log_y_unobserved]\n"
     ]
    },
    {
     "data": {
      "text/html": [
       "\n",
       "<style>\n",
       "    /* Turns off some styling */\n",
       "    progress {\n",
       "        /* gets rid of default border in Firefox and Opera. */\n",
       "        border: none;\n",
       "        /* Needs to be in here for Safari polyfill so background images work as expected. */\n",
       "        background-size: auto;\n",
       "    }\n",
       "    .progress-bar-interrupted, .progress-bar-interrupted::-webkit-progress-bar {\n",
       "        background: #F44336;\n",
       "    }\n",
       "</style>\n"
      ],
      "text/plain": [
       "<IPython.core.display.HTML object>"
      ]
     },
     "metadata": {},
     "output_type": "display_data"
    },
    {
     "data": {
      "text/html": [
       "\n",
       "    <div>\n",
       "      <progress value='1500' class='' max='1500' style='width:300px; height:20px; vertical-align: middle;'></progress>\n",
       "      100.00% [1500/1500 01:47<00:00 Sampling chain 0, 0 divergences]\n",
       "    </div>\n",
       "    "
      ],
      "text/plain": [
       "<IPython.core.display.HTML object>"
      ]
     },
     "metadata": {},
     "output_type": "display_data"
    },
    {
     "data": {
      "text/html": [
       "\n",
       "<style>\n",
       "    /* Turns off some styling */\n",
       "    progress {\n",
       "        /* gets rid of default border in Firefox and Opera. */\n",
       "        border: none;\n",
       "        /* Needs to be in here for Safari polyfill so background images work as expected. */\n",
       "        background-size: auto;\n",
       "    }\n",
       "    .progress-bar-interrupted, .progress-bar-interrupted::-webkit-progress-bar {\n",
       "        background: #F44336;\n",
       "    }\n",
       "</style>\n"
      ],
      "text/plain": [
       "<IPython.core.display.HTML object>"
      ]
     },
     "metadata": {},
     "output_type": "display_data"
    },
    {
     "data": {
      "text/html": [
       "\n",
       "    <div>\n",
       "      <progress value='1500' class='' max='1500' style='width:300px; height:20px; vertical-align: middle;'></progress>\n",
       "      100.00% [1500/1500 01:47<00:00 Sampling chain 1, 0 divergences]\n",
       "    </div>\n",
       "    "
      ],
      "text/plain": [
       "<IPython.core.display.HTML object>"
      ]
     },
     "metadata": {},
     "output_type": "display_data"
    },
    {
     "name": "stderr",
     "output_type": "stream",
     "text": [
      "Sampling 2 chains for 1_000 tune and 500 draw iterations (2_000 + 1_000 draws total) took 214 seconds.\n",
      "We recommend running at least 4 chains for robust computation of convergence diagnostics\n"
     ]
    },
    {
     "ename": "AttributeError",
     "evalue": "module 'pymc' has no attribute 'save_trace'",
     "output_type": "error",
     "traceback": [
      "\u001b[0;31m---------------------------------------------------------------------------\u001b[0m",
      "\u001b[0;31mAttributeError\u001b[0m                            Traceback (most recent call last)",
      "Input \u001b[0;32mIn [11]\u001b[0m, in \u001b[0;36m<module>\u001b[0;34m\u001b[0m\n\u001b[1;32m      1\u001b[0m \u001b[38;5;28;01mwith\u001b[39;00m bay_model1:\n\u001b[1;32m      2\u001b[0m     trace_bay_model1 \u001b[38;5;241m=\u001b[39m pm\u001b[38;5;241m.\u001b[39msample(draws\u001b[38;5;241m=\u001b[39m\u001b[38;5;241m500\u001b[39m, cores\u001b[38;5;241m=\u001b[39m\u001b[38;5;241m1\u001b[39m)\n\u001b[0;32m----> 3\u001b[0m     \u001b[43mpm\u001b[49m\u001b[38;5;241;43m.\u001b[39;49m\u001b[43msave_trace\u001b[49m(trace_bay_model1, directory\u001b[38;5;241m=\u001b[39m\u001b[38;5;124m\"\u001b[39m\u001b[38;5;124mmy_trace_folder\u001b[39m\u001b[38;5;124m\"\u001b[39m, overwrite\u001b[38;5;241m=\u001b[39m\u001b[38;5;28;01mTrue\u001b[39;00m)\n",
      "\u001b[0;31mAttributeError\u001b[0m: module 'pymc' has no attribute 'save_trace'"
     ]
    }
   ],
   "source": [
    "with bay_model1:\n",
    "    trace_bay_model1 = pm.sample(draws=500, cores=1)\n",
    "    pm.save_trace(trace_bay_model1, directory=\"my_trace_folder\", overwrite=True)"
   ]
  },
  {
   "cell_type": "code",
   "execution_count": 12,
   "id": "28a91e57-8e1b-41a0-aa08-69c8a99ec5b0",
   "metadata": {},
   "outputs": [
    {
     "data": {
      "text/plain": [
       "'baysian_elast_trace.nc'"
      ]
     },
     "execution_count": 12,
     "metadata": {},
     "output_type": "execute_result"
    }
   ],
   "source": [
    "trace_bay_model1.to_netcdf('baysian_elast_trace.nc')"
   ]
  },
  {
   "cell_type": "code",
   "execution_count": null,
   "id": "8915b876-32cc-4b35-9acc-8eea62f5af3e",
   "metadata": {},
   "outputs": [],
   "source": [
    "idata = az.from_netcdf(\"baysian_elast_trace.nc\")"
   ]
  },
  {
   "cell_type": "code",
   "execution_count": 13,
   "id": "f0b02325-ce6e-4664-9ac5-fde4cb7b3cf1",
   "metadata": {},
   "outputs": [
    {
     "data": {
      "text/html": [
       "<div>\n",
       "<style scoped>\n",
       "    .dataframe tbody tr th:only-of-type {\n",
       "        vertical-align: middle;\n",
       "    }\n",
       "\n",
       "    .dataframe tbody tr th {\n",
       "        vertical-align: top;\n",
       "    }\n",
       "\n",
       "    .dataframe thead th {\n",
       "        text-align: right;\n",
       "    }\n",
       "</style>\n",
       "<table border=\"1\" class=\"dataframe\">\n",
       "  <thead>\n",
       "    <tr style=\"text-align: right;\">\n",
       "      <th></th>\n",
       "      <th>mean</th>\n",
       "      <th>sd</th>\n",
       "      <th>hdi_3%</th>\n",
       "      <th>hdi_97%</th>\n",
       "      <th>mcse_mean</th>\n",
       "      <th>mcse_sd</th>\n",
       "      <th>ess_bulk</th>\n",
       "      <th>ess_tail</th>\n",
       "      <th>r_hat</th>\n",
       "    </tr>\n",
       "  </thead>\n",
       "  <tbody>\n",
       "    <tr>\n",
       "      <th>b_log_rate_gw</th>\n",
       "      <td>-0.009</td>\n",
       "      <td>0.007</td>\n",
       "      <td>-0.021</td>\n",
       "      <td>0.005</td>\n",
       "      <td>0.000</td>\n",
       "      <td>0.000</td>\n",
       "      <td>1166.574</td>\n",
       "      <td>871.841</td>\n",
       "      <td>1.000</td>\n",
       "    </tr>\n",
       "    <tr>\n",
       "      <th>b_log_gdp</th>\n",
       "      <td>0.082</td>\n",
       "      <td>0.033</td>\n",
       "      <td>0.019</td>\n",
       "      <td>0.145</td>\n",
       "      <td>0.001</td>\n",
       "      <td>0.001</td>\n",
       "      <td>1214.744</td>\n",
       "      <td>943.961</td>\n",
       "      <td>1.002</td>\n",
       "    </tr>\n",
       "    <tr>\n",
       "      <th>b_log_mean_precip</th>\n",
       "      <td>0.024</td>\n",
       "      <td>0.023</td>\n",
       "      <td>-0.019</td>\n",
       "      <td>0.067</td>\n",
       "      <td>0.001</td>\n",
       "      <td>0.000</td>\n",
       "      <td>1851.270</td>\n",
       "      <td>907.527</td>\n",
       "      <td>1.001</td>\n",
       "    </tr>\n",
       "    <tr>\n",
       "      <th>b_log_pop_density</th>\n",
       "      <td>0.083</td>\n",
       "      <td>0.038</td>\n",
       "      <td>0.015</td>\n",
       "      <td>0.159</td>\n",
       "      <td>0.001</td>\n",
       "      <td>0.001</td>\n",
       "      <td>1142.072</td>\n",
       "      <td>846.396</td>\n",
       "      <td>1.000</td>\n",
       "    </tr>\n",
       "    <tr>\n",
       "      <th>b_log_fremdbezug_perfirm</th>\n",
       "      <td>0.303</td>\n",
       "      <td>0.024</td>\n",
       "      <td>0.257</td>\n",
       "      <td>0.344</td>\n",
       "      <td>0.001</td>\n",
       "      <td>0.000</td>\n",
       "      <td>1397.570</td>\n",
       "      <td>955.805</td>\n",
       "      <td>1.001</td>\n",
       "    </tr>\n",
       "    <tr>\n",
       "      <th>b_log_perc_gruene</th>\n",
       "      <td>0.002</td>\n",
       "      <td>0.025</td>\n",
       "      <td>-0.044</td>\n",
       "      <td>0.047</td>\n",
       "      <td>0.001</td>\n",
       "      <td>0.001</td>\n",
       "      <td>1541.347</td>\n",
       "      <td>850.496</td>\n",
       "      <td>0.999</td>\n",
       "    </tr>\n",
       "    <tr>\n",
       "      <th>b_log_sw_area</th>\n",
       "      <td>0.215</td>\n",
       "      <td>0.033</td>\n",
       "      <td>0.149</td>\n",
       "      <td>0.275</td>\n",
       "      <td>0.001</td>\n",
       "      <td>0.001</td>\n",
       "      <td>1083.383</td>\n",
       "      <td>794.830</td>\n",
       "      <td>0.998</td>\n",
       "    </tr>\n",
       "  </tbody>\n",
       "</table>\n",
       "</div>"
      ],
      "text/plain": [
       "                           mean     sd  hdi_3%  hdi_97%  mcse_mean  mcse_sd  \\\n",
       "b_log_rate_gw            -0.009  0.007  -0.021    0.005      0.000    0.000   \n",
       "b_log_gdp                 0.082  0.033   0.019    0.145      0.001    0.001   \n",
       "b_log_mean_precip         0.024  0.023  -0.019    0.067      0.001    0.000   \n",
       "b_log_pop_density         0.083  0.038   0.015    0.159      0.001    0.001   \n",
       "b_log_fremdbezug_perfirm  0.303  0.024   0.257    0.344      0.001    0.000   \n",
       "b_log_perc_gruene         0.002  0.025  -0.044    0.047      0.001    0.001   \n",
       "b_log_sw_area             0.215  0.033   0.149    0.275      0.001    0.001   \n",
       "\n",
       "                          ess_bulk  ess_tail  r_hat  \n",
       "b_log_rate_gw             1166.574   871.841  1.000  \n",
       "b_log_gdp                 1214.744   943.961  1.002  \n",
       "b_log_mean_precip         1851.270   907.527  1.001  \n",
       "b_log_pop_density         1142.072   846.396  1.000  \n",
       "b_log_fremdbezug_perfirm  1397.570   955.805  1.001  \n",
       "b_log_perc_gruene         1541.347   850.496  0.999  \n",
       "b_log_sw_area             1083.383   794.830  0.998  "
      ]
     },
     "execution_count": 13,
     "metadata": {},
     "output_type": "execute_result"
    }
   ],
   "source": [
    "variables_ofinterest = ['b_log_rate_gw','b_log_gdp', 'b_log_mean_precip', 'b_log_pop_density','b_log_fremdbezug_perfirm', 'b_log_perc_gruene' ,'b_log_sw_area']\n",
    "summary_pm_elast = pm.summary(trace_bay_model1, var_names=variables_ofinterest,  round_to=3)\n",
    "summary_pm_elast"
   ]
  },
  {
   "cell_type": "code",
   "execution_count": null,
   "id": "d78630c1-72e6-4a04-8188-e4bc60e2e91c",
   "metadata": {},
   "outputs": [],
   "source": [
    "az.plot_trace(trace_bay_model1);"
   ]
  },
  {
   "cell_type": "markdown",
   "id": "de2c0fbc-1773-4afc-9f0e-a17b2a679186",
   "metadata": {},
   "source": [
    " - Check Assumptions and Model FIt"
   ]
  },
  {
   "cell_type": "code",
   "execution_count": 14,
   "id": "e0e45e16-b370-4f99-a81a-8402bda3b34d",
   "metadata": {},
   "outputs": [],
   "source": [
    "\n",
    "summary_pm_elast.reset_index(inplace = True)\n",
    "\n",
    "summary_pm_elast.rename(columns= {'index':'Variable','mean':'Mean', 'sd':'SD'}, inplace = True)\n",
    "summary_pm_elast = summary_pm_elast.round(4)\n",
    "summary_pm_elast['r_hat'] = summary_pm_elast['r_hat'].round(2)\n",
    "col_to_drop = summary_pm_elast.columns[5:9]\n",
    "summary_pm_elast= summary_pm_elast.drop(columns=col_to_drop, axis = 1)"
   ]
  },
  {
   "cell_type": "code",
   "execution_count": 15,
   "id": "502c35d0-6710-434d-8463-6927fead956d",
   "metadata": {},
   "outputs": [],
   "source": [
    "latex_df = summary_pm_elast.to_latex(index = False, caption = 'Summary Baysian - Elasticity', float_format= \"%.3f\", escape=True)\n",
    "with open('summary_rate_change_bay', 'w') as file:\n",
    "    file.write(latex_df)"
   ]
  },
  {
   "cell_type": "code",
   "execution_count": null,
   "id": "ddc27024-4ec2-40a7-854d-96c5a53e4376",
   "metadata": {},
   "outputs": [],
   "source": []
  }
 ],
 "metadata": {
  "kernelspec": {
   "display_name": "Python 3 (ipykernel)",
   "language": "python",
   "name": "python3"
  },
  "language_info": {
   "codemirror_mode": {
    "name": "ipython",
    "version": 3
   },
   "file_extension": ".py",
   "mimetype": "text/x-python",
   "name": "python",
   "nbconvert_exporter": "python",
   "pygments_lexer": "ipython3",
   "version": "3.9.7"
  }
 },
 "nbformat": 4,
 "nbformat_minor": 5
}
